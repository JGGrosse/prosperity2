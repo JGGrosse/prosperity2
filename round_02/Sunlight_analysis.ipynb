{
 "cells": [
  {
   "cell_type": "code",
   "execution_count": 5,
   "id": "0b17c01b",
   "metadata": {},
   "outputs": [],
   "source": [
    "import pandas as pd\n",
    "import numpy as np\n",
    "import matplotlib.pyplot as plt\n",
    "\n",
    "filename1 = 'prices_round_2_day_-1.csv'\n",
    "filename2 = 'prices_round_2_day_0.csv'\n",
    "filename3 = 'prices_round_2_day_1.csv'\n",
    "\n",
    "## Preprocessing\n",
    "\n",
    "\n",
    "file1 = pd.read_csv(filename1,sep=';') ## The used separator is ;\n",
    "#file1 = file1[file1['product'] == 'STARFRUIT'] ## Only use amethyst data \n",
    "#file1['weighted_mid'] = (file1['bid_volume_1']*file1['bid_price_1'] + file1['ask_volume_1']*file1['ask_price_1']) / (file1['bid_volume_1'] + file1['ask_volume_1'])\n",
    "#file1 = file1.filter(['mid_price','timestamp','weighted_mid']) ## Only use the midprice and the timestamp column\n",
    "\n",
    "## Same for the other files\n",
    "file2 = pd.read_csv(filename2,sep=';') \n",
    "#file2 = file2[file2['product'] == 'STARFRUIT']\n",
    "#file2['weighted_mid'] = (file2['bid_volume_1']*file2['bid_price_1'] + file2['ask_volume_1']*file2['ask_price_1']) / (file2['bid_volume_1'] + file2['ask_volume_1'])\n",
    "#file2 = file2.filter(['mid_price','timestamp','weighted_mid'])\n",
    "\n",
    "\n",
    "file3 = pd.read_csv(filename3,sep=';') \n",
    "#file3 = file3[file3['product'] == 'STARFRUIT']\n",
    "#file3['weighted_mid'] = (file3['bid_volume_1']*file3['bid_price_1'] + file3['ask_volume_1']*file3['ask_price_1']) / (file3['bid_volume_1'] + file3['ask_volume_1'])\n",
    "#file3 = file3.filter(['mid_price','timestamp','weighted_mid'])\n",
    "\n",
    "file2['timestamp'] = file2['timestamp'].apply(lambda x: x + 1000000)\n",
    "file3['timestamp'] = file3['timestamp'].apply(lambda x: x + 2000000)\n",
    "\n",
    "data = pd.concat([file1,file2,file3]) ## Three days merged into 1 frame\n"
   ]
  },
  {
   "cell_type": "code",
   "execution_count": 4,
   "id": "2c3f2e9e",
   "metadata": {},
   "outputs": [
    {
     "data": {
      "text/html": [
       "<div>\n",
       "<style scoped>\n",
       "    .dataframe tbody tr th:only-of-type {\n",
       "        vertical-align: middle;\n",
       "    }\n",
       "\n",
       "    .dataframe tbody tr th {\n",
       "        vertical-align: top;\n",
       "    }\n",
       "\n",
       "    .dataframe thead th {\n",
       "        text-align: right;\n",
       "    }\n",
       "</style>\n",
       "<table border=\"1\" class=\"dataframe\">\n",
       "  <thead>\n",
       "    <tr style=\"text-align: right;\">\n",
       "      <th></th>\n",
       "      <th>timestamp</th>\n",
       "      <th>ORCHIDS</th>\n",
       "      <th>TRANSPORT_FEES</th>\n",
       "      <th>EXPORT_TARIFF</th>\n",
       "      <th>IMPORT_TARIFF</th>\n",
       "      <th>SUNLIGHT</th>\n",
       "      <th>HUMIDITY</th>\n",
       "      <th>DAY</th>\n",
       "    </tr>\n",
       "  </thead>\n",
       "  <tbody>\n",
       "    <tr>\n",
       "      <th>0</th>\n",
       "      <td>0</td>\n",
       "      <td>1200.00</td>\n",
       "      <td>1.5</td>\n",
       "      <td>10.5</td>\n",
       "      <td>-2.0</td>\n",
       "      <td>2500.0000</td>\n",
       "      <td>79.00000</td>\n",
       "      <td>-1</td>\n",
       "    </tr>\n",
       "    <tr>\n",
       "      <th>1</th>\n",
       "      <td>100</td>\n",
       "      <td>1201.75</td>\n",
       "      <td>1.5</td>\n",
       "      <td>9.5</td>\n",
       "      <td>-2.0</td>\n",
       "      <td>2499.4197</td>\n",
       "      <td>79.00410</td>\n",
       "      <td>-1</td>\n",
       "    </tr>\n",
       "    <tr>\n",
       "      <th>2</th>\n",
       "      <td>200</td>\n",
       "      <td>1201.75</td>\n",
       "      <td>1.5</td>\n",
       "      <td>9.5</td>\n",
       "      <td>-2.0</td>\n",
       "      <td>2498.8457</td>\n",
       "      <td>79.00821</td>\n",
       "      <td>-1</td>\n",
       "    </tr>\n",
       "    <tr>\n",
       "      <th>3</th>\n",
       "      <td>300</td>\n",
       "      <td>1201.75</td>\n",
       "      <td>1.5</td>\n",
       "      <td>9.5</td>\n",
       "      <td>-2.0</td>\n",
       "      <td>2498.2780</td>\n",
       "      <td>79.01234</td>\n",
       "      <td>-1</td>\n",
       "    </tr>\n",
       "    <tr>\n",
       "      <th>4</th>\n",
       "      <td>400</td>\n",
       "      <td>1201.75</td>\n",
       "      <td>1.5</td>\n",
       "      <td>9.5</td>\n",
       "      <td>-2.0</td>\n",
       "      <td>2497.7166</td>\n",
       "      <td>79.01649</td>\n",
       "      <td>-1</td>\n",
       "    </tr>\n",
       "    <tr>\n",
       "      <th>...</th>\n",
       "      <td>...</td>\n",
       "      <td>...</td>\n",
       "      <td>...</td>\n",
       "      <td>...</td>\n",
       "      <td>...</td>\n",
       "      <td>...</td>\n",
       "      <td>...</td>\n",
       "      <td>...</td>\n",
       "    </tr>\n",
       "    <tr>\n",
       "      <th>9996</th>\n",
       "      <td>2999600</td>\n",
       "      <td>1036.25</td>\n",
       "      <td>0.9</td>\n",
       "      <td>9.5</td>\n",
       "      <td>-5.0</td>\n",
       "      <td>2299.9436</td>\n",
       "      <td>69.93549</td>\n",
       "      <td>1</td>\n",
       "    </tr>\n",
       "    <tr>\n",
       "      <th>9997</th>\n",
       "      <td>2999700</td>\n",
       "      <td>1036.25</td>\n",
       "      <td>0.9</td>\n",
       "      <td>9.5</td>\n",
       "      <td>-5.0</td>\n",
       "      <td>2299.9556</td>\n",
       "      <td>69.95153</td>\n",
       "      <td>1</td>\n",
       "    </tr>\n",
       "    <tr>\n",
       "      <th>9998</th>\n",
       "      <td>2999800</td>\n",
       "      <td>1036.25</td>\n",
       "      <td>0.9</td>\n",
       "      <td>9.5</td>\n",
       "      <td>-5.0</td>\n",
       "      <td>2299.9690</td>\n",
       "      <td>69.96762</td>\n",
       "      <td>1</td>\n",
       "    </tr>\n",
       "    <tr>\n",
       "      <th>9999</th>\n",
       "      <td>2999900</td>\n",
       "      <td>1034.25</td>\n",
       "      <td>0.9</td>\n",
       "      <td>9.5</td>\n",
       "      <td>-5.0</td>\n",
       "      <td>2299.9840</td>\n",
       "      <td>69.98378</td>\n",
       "      <td>1</td>\n",
       "    </tr>\n",
       "    <tr>\n",
       "      <th>10000</th>\n",
       "      <td>3000000</td>\n",
       "      <td>1035.25</td>\n",
       "      <td>0.9</td>\n",
       "      <td>9.5</td>\n",
       "      <td>-5.0</td>\n",
       "      <td>2300.0000</td>\n",
       "      <td>70.00000</td>\n",
       "      <td>1</td>\n",
       "    </tr>\n",
       "  </tbody>\n",
       "</table>\n",
       "<p>30003 rows × 8 columns</p>\n",
       "</div>"
      ],
      "text/plain": [
       "       timestamp  ORCHIDS  TRANSPORT_FEES  EXPORT_TARIFF  IMPORT_TARIFF  \\\n",
       "0              0  1200.00             1.5           10.5           -2.0   \n",
       "1            100  1201.75             1.5            9.5           -2.0   \n",
       "2            200  1201.75             1.5            9.5           -2.0   \n",
       "3            300  1201.75             1.5            9.5           -2.0   \n",
       "4            400  1201.75             1.5            9.5           -2.0   \n",
       "...          ...      ...             ...            ...            ...   \n",
       "9996     2999600  1036.25             0.9            9.5           -5.0   \n",
       "9997     2999700  1036.25             0.9            9.5           -5.0   \n",
       "9998     2999800  1036.25             0.9            9.5           -5.0   \n",
       "9999     2999900  1034.25             0.9            9.5           -5.0   \n",
       "10000    3000000  1035.25             0.9            9.5           -5.0   \n",
       "\n",
       "        SUNLIGHT  HUMIDITY  DAY  \n",
       "0      2500.0000  79.00000   -1  \n",
       "1      2499.4197  79.00410   -1  \n",
       "2      2498.8457  79.00821   -1  \n",
       "3      2498.2780  79.01234   -1  \n",
       "4      2497.7166  79.01649   -1  \n",
       "...          ...       ...  ...  \n",
       "9996   2299.9436  69.93549    1  \n",
       "9997   2299.9556  69.95153    1  \n",
       "9998   2299.9690  69.96762    1  \n",
       "9999   2299.9840  69.98378    1  \n",
       "10000  2300.0000  70.00000    1  \n",
       "\n",
       "[30003 rows x 8 columns]"
      ]
     },
     "execution_count": 4,
     "metadata": {},
     "output_type": "execute_result"
    }
   ],
   "source": [
    "data"
   ]
  },
  {
   "cell_type": "code",
   "execution_count": 15,
   "id": "d03e584c",
   "metadata": {},
   "outputs": [
    {
     "data": {
      "text/plain": [
       "[<matplotlib.lines.Line2D at 0x2662ab38760>]"
      ]
     },
     "execution_count": 15,
     "metadata": {},
     "output_type": "execute_result"
    },
    {
     "data": {
      "image/png": "[encoded data removed]",
      "text/plain": [
       "<Figure size 640x480 with 1 Axes>"
      ]
     },
     "metadata": {},
     "output_type": "display_data"
    }
   ],
   "source": [
    "time = data['timestamp'].to_numpy()\n",
    "sun = data['SUNLIGHT'].to_numpy()\n",
    "hum = data['HUMIDITY'].to_numpy()\n",
    "price = data['ORCHIDS'].to_numpy()\n",
    "#plt.plot(time,sun,c='y')\n",
    "plt.plot(time,price,c='b')\n",
    "#plt.plot(time,price)\n"
   ]
  },
  {
   "cell_type": "code",
   "execution_count": 77,
   "id": "d1d1b5d6",
   "metadata": {},
   "outputs": [],
   "source": [
    "timestep = 12/10000\n",
    "\n",
    "def prod_rate(n,sun,hum):\n",
    "    prod = 100\n",
    "    sun_time = sun[n]\n",
    "    hum_time = hum[n]\n",
    "    \n",
    "    sun_time_cumu = 0\n",
    "    ### sun_time cumu\n",
    "    for i in range(n+1):\n",
    "        sun_time_cumu = sun_time_cumu + sun[i]\n",
    "        \n",
    "    sun_time_cumu = sun_time_cumu / (n+1)\n",
    "    #print('blub',sun_time_cumu)\n",
    "    diff_sun = min(sun_time_cumu - 2500,0)\n",
    "    subtr = diff_sun / 59.5238\n",
    "    prod  = prod + 4*subtr\n",
    "    \n",
    "    ##Hum\n",
    "    hum_out = 0\n",
    "    diff_hum = 0\n",
    "    if hum_time < 60:\n",
    "        diff_hum = hum_time - 60\n",
    "    if hum_time > 80:\n",
    "        diff_hum = 80 - hum_time\n",
    "    diff_hum = diff_hum/5\n",
    "    prod = prod + 2*diff_hum\n",
    "    \n",
    "    return prod\n",
    "\n",
    "    \n",
    "prod = [prod_rate(n,sun,hum) for n in range(30000)]"
   ]
  },
  {
   "cell_type": "code",
   "execution_count": 55,
   "id": "12723460",
   "metadata": {},
   "outputs": [
    {
     "data": {
      "text/plain": [
       "100.3578609537832"
      ]
     },
     "execution_count": 55,
     "metadata": {},
     "output_type": "execute_result"
    }
   ],
   "source": [
    "prod_rate(2,sun,hum)"
   ]
  },
  {
   "cell_type": "code",
   "execution_count": 78,
   "id": "cae4a3eb",
   "metadata": {
    "scrolled": false
   },
   "outputs": [
    {
     "data": {
      "text/plain": [
       "[<matplotlib.lines.Line2D at 0x266312a3340>]"
      ]
     },
     "execution_count": 78,
     "metadata": {},
     "output_type": "execute_result"
    },
    {
     "data": {
      "image/png": "[encoded data removed]",
      "text/plain": [
       "<Figure size 640x480 with 1 Axes>"
      ]
     },
     "metadata": {},
     "output_type": "display_data"
    }
   ],
   "source": [
    "plt.plot([i for i in range(10000)], prod[:10000])\n"
   ]
  },
  {
   "cell_type": "code",
   "execution_count": 65,
   "id": "733e8342",
   "metadata": {},
   "outputs": [
    {
     "data": {
      "text/plain": [
       "[<matplotlib.lines.Line2D at 0x26630d99ba0>]"
      ]
     },
     "execution_count": 65,
     "metadata": {},
     "output_type": "execute_result"
    },
    {
     "data": {
      "image/png": "[encoded data removed]",
      "text/plain": [
       "<Figure size 640x480 with 1 Axes>"
      ]
     },
     "metadata": {},
     "output_type": "display_data"
    }
   ],
   "source": [
    "plt.plot([i for i in range(10000)], price[:10000])"
   ]
  },
  {
   "cell_type": "code",
   "execution_count": 69,
   "id": "3cc96d77",
   "metadata": {},
   "outputs": [],
   "source": [
    "### DAY 2\n",
    "\n",
    "def prod_rate2(n,sun,hum):\n",
    "    off = 10000\n",
    "    prod = 100\n",
    "    sun_time = sun[n + off]\n",
    "    hum_time = hum[n + off]\n",
    "    \n",
    "    sun_time_cumu = 0\n",
    "    ### sun_time cumu\n",
    "    for i in range(n+1):\n",
    "        sun_time_cumu = sun_time_cumu + sun[i + off]\n",
    "        \n",
    "    sun_time_cumu = sun_time_cumu / (n+1)\n",
    "    #print('blub',sun_time_cumu)\n",
    "    diff_sun = min(sun_time_cumu - 2500,0)\n",
    "    subtr = diff_sun / 59.5238\n",
    "    prod  = prod + 4*subtr\n",
    "    \n",
    "    ##Hum\n",
    "    hum_out = 0\n",
    "    diff_hum = 0\n",
    "    if hum_time < 60:\n",
    "        diff_hum = hum_time - 60\n",
    "    if hum_time > 80:\n",
    "        diff_hum = 80 - hum_time\n",
    "    diff_hum = diff_hum/5\n",
    "    prod = prod + 2*diff_hum\n",
    "    \n",
    "    return prod\n",
    "\n",
    "    \n",
    "prod = [prod_rate2(n,sun,hum) for n in range(10000)]\n",
    "\n",
    "\n"
   ]
  },
  {
   "cell_type": "code",
   "execution_count": 72,
   "id": "cc3f609e",
   "metadata": {},
   "outputs": [
    {
     "ename": "TypeError",
     "evalue": "list indices must be integers or slices, not tuple",
     "output_type": "error",
     "traceback": [
      "\u001b[1;31m---------------------------------------------------------------------------\u001b[0m",
      "\u001b[1;31mTypeError\u001b[0m                                 Traceback (most recent call last)",
      "Cell \u001b[1;32mIn[72], line 1\u001b[0m\n\u001b[1;32m----> 1\u001b[0m plt\u001b[38;5;241m.\u001b[39mplot([i \u001b[38;5;28;01mfor\u001b[39;00m i \u001b[38;5;129;01min\u001b[39;00m \u001b[38;5;28mrange\u001b[39m(\u001b[38;5;241m10000\u001b[39m)], \u001b[43mprod\u001b[49m\u001b[43m[\u001b[49m\u001b[38;5;241;43m10000\u001b[39;49m\u001b[43m:\u001b[49m\u001b[43m,\u001b[49m\u001b[43m:\u001b[49m\u001b[38;5;241;43m20000\u001b[39;49m\u001b[43m]\u001b[49m)\n",
      "\u001b[1;31mTypeError\u001b[0m: list indices must be integers or slices, not tuple"
     ]
    }
   ],
   "source": [
    "plt.plot([i for i in range(10000)], prod[10000:,:20000])"
   ]
  },
  {
   "cell_type": "code",
   "execution_count": 73,
   "id": "0c30af18",
   "metadata": {},
   "outputs": [],
   "source": [
    "x = [1,2,3,4]"
   ]
  },
  {
   "cell_type": "code",
   "execution_count": 74,
   "id": "510b063e",
   "metadata": {},
   "outputs": [
    {
     "ename": "TypeError",
     "evalue": "list indices must be integers or slices, not tuple",
     "output_type": "error",
     "traceback": [
      "\u001b[1;31m---------------------------------------------------------------------------\u001b[0m",
      "\u001b[1;31mTypeError\u001b[0m                                 Traceback (most recent call last)",
      "Cell \u001b[1;32mIn[74], line 1\u001b[0m\n\u001b[1;32m----> 1\u001b[0m \u001b[43mx\u001b[49m\u001b[43m[\u001b[49m\u001b[38;5;241;43m1\u001b[39;49m\u001b[43m,\u001b[49m\u001b[38;5;241;43m3\u001b[39;49m\u001b[43m]\u001b[49m\n",
      "\u001b[1;31mTypeError\u001b[0m: list indices must be integers or slices, not tuple"
     ]
    }
   ],
   "source": [
    "x[1,3]"
   ]
  },
  {
   "cell_type": "code",
   "execution_count": 68,
   "id": "288c25f1",
   "metadata": {},
   "outputs": [
    {
     "data": {
      "text/plain": [
       "[<matplotlib.lines.Line2D at 0x26630eb7be0>]"
      ]
     },
     "execution_count": 68,
     "metadata": {},
     "output_type": "execute_result"
    },
    {
     "data": {
      "image/png": "[encoded data removed]",
      "text/plain": [
       "<Figure size 640x480 with 1 Axes>"
      ]
     },
     "metadata": {},
     "output_type": "display_data"
    }
   ],
   "source": [
    "plt.plot([i for i in range(10000)], price[10000:20000])"
   ]
  },
  {
   "cell_type": "code",
   "execution_count": 81,
   "id": "779748a9",
   "metadata": {},
   "outputs": [],
   "source": [
    "def checkNan(n):\n",
    "    if math.isnan(n): return 0\n",
    "    return 1\n",
    "\n",
    "bid_amt = []\n",
    "for i in range(30000):\n",
    "    res = checkNan(data['bid_volume_1'].to_numpy()[i]) + checkNan(data['bid_volume_2'].to_numpy()[i]) + checkNan(data['bid_volume_3'].to_numpy()[i])\n",
    "    bid_amt.append(res)\n",
    "    \n",
    "ask_amt = []\n",
    "for i in range(30000):\n",
    "    res = checkNan(data['ask_volume_1'].to_numpy()[i]) + checkNan(data['ask_volume_2'].to_numpy()[i]) + checkNan(data['ask_volume_3'].to_numpy()[i])\n",
    "    ask_amt.append(res)"
   ]
  },
  {
   "cell_type": "code",
   "execution_count": 83,
   "id": "6c82664c",
   "metadata": {},
   "outputs": [],
   "source": [
    "data['bid_amt'] = bid_amt\n",
    "data['ask_amt'] = ask_amt\n"
   ]
  },
  {
   "cell_type": "code",
   "execution_count": 97,
   "id": "8de37875",
   "metadata": {},
   "outputs": [],
   "source": [
    "data['bid_volume_2'].fillna(0,inplace=True)\n",
    "data['bid_volume_3'].fillna(0,inplace=True)\n",
    "data['ask_volume_2'].fillna(0,inplace=True)\n",
    "data['ask_volume_3'].fillna(0,inplace=True)\n",
    "\n",
    "\n",
    "\n",
    "data['total_bid'] = data['bid_volume_1']"
   ]
  },
  {
   "cell_type": "code",
   "execution_count": 98,
   "id": "57742fb7",
   "metadata": {},
   "outputs": [
    {
     "data": {
      "text/html": [
       "<div>\n",
       "<style scoped>\n",
       "    .dataframe tbody tr th:only-of-type {\n",
       "        vertical-align: middle;\n",
       "    }\n",
       "\n",
       "    .dataframe tbody tr th {\n",
       "        vertical-align: top;\n",
       "    }\n",
       "\n",
       "    .dataframe thead th {\n",
       "        text-align: right;\n",
       "    }\n",
       "</style>\n",
       "<table border=\"1\" class=\"dataframe\">\n",
       "  <thead>\n",
       "    <tr style=\"text-align: right;\">\n",
       "      <th></th>\n",
       "      <th>day</th>\n",
       "      <th>timestamp</th>\n",
       "      <th>product</th>\n",
       "      <th>bid_price_1</th>\n",
       "      <th>bid_volume_1</th>\n",
       "      <th>bid_price_2</th>\n",
       "      <th>bid_volume_2</th>\n",
       "      <th>bid_price_3</th>\n",
       "      <th>bid_volume_3</th>\n",
       "      <th>ask_price_1</th>\n",
       "      <th>ask_volume_1</th>\n",
       "      <th>ask_price_2</th>\n",
       "      <th>ask_volume_2</th>\n",
       "      <th>ask_price_3</th>\n",
       "      <th>ask_volume_3</th>\n",
       "      <th>mid_price</th>\n",
       "      <th>profit_and_loss</th>\n",
       "      <th>weighted_mid</th>\n",
       "      <th>bid_amt</th>\n",
       "      <th>ask_amt</th>\n",
       "    </tr>\n",
       "  </thead>\n",
       "  <tbody>\n",
       "    <tr>\n",
       "      <th>1</th>\n",
       "      <td>-2</td>\n",
       "      <td>0</td>\n",
       "      <td>STARFRUIT</td>\n",
       "      <td>4997</td>\n",
       "      <td>26</td>\n",
       "      <td>NaN</td>\n",
       "      <td>0.0</td>\n",
       "      <td>NaN</td>\n",
       "      <td>0.0</td>\n",
       "      <td>5003</td>\n",
       "      <td>26</td>\n",
       "      <td>NaN</td>\n",
       "      <td>0.0</td>\n",
       "      <td>NaN</td>\n",
       "      <td>0.0</td>\n",
       "      <td>5000.0</td>\n",
       "      <td>0.0</td>\n",
       "      <td>5000.000000</td>\n",
       "      <td>1</td>\n",
       "      <td>1</td>\n",
       "    </tr>\n",
       "    <tr>\n",
       "      <th>3</th>\n",
       "      <td>-2</td>\n",
       "      <td>100</td>\n",
       "      <td>STARFRUIT</td>\n",
       "      <td>5000</td>\n",
       "      <td>5</td>\n",
       "      <td>4998.0</td>\n",
       "      <td>6.0</td>\n",
       "      <td>4997.0</td>\n",
       "      <td>20.0</td>\n",
       "      <td>5004</td>\n",
       "      <td>20</td>\n",
       "      <td>NaN</td>\n",
       "      <td>0.0</td>\n",
       "      <td>NaN</td>\n",
       "      <td>0.0</td>\n",
       "      <td>5002.0</td>\n",
       "      <td>0.0</td>\n",
       "      <td>5003.200000</td>\n",
       "      <td>3</td>\n",
       "      <td>1</td>\n",
       "    </tr>\n",
       "    <tr>\n",
       "      <th>4</th>\n",
       "      <td>-2</td>\n",
       "      <td>200</td>\n",
       "      <td>STARFRUIT</td>\n",
       "      <td>4997</td>\n",
       "      <td>1</td>\n",
       "      <td>4996.0</td>\n",
       "      <td>30.0</td>\n",
       "      <td>NaN</td>\n",
       "      <td>0.0</td>\n",
       "      <td>5003</td>\n",
       "      <td>31</td>\n",
       "      <td>NaN</td>\n",
       "      <td>0.0</td>\n",
       "      <td>NaN</td>\n",
       "      <td>0.0</td>\n",
       "      <td>5000.0</td>\n",
       "      <td>0.0</td>\n",
       "      <td>5002.812500</td>\n",
       "      <td>2</td>\n",
       "      <td>1</td>\n",
       "    </tr>\n",
       "    <tr>\n",
       "      <th>7</th>\n",
       "      <td>-2</td>\n",
       "      <td>300</td>\n",
       "      <td>STARFRUIT</td>\n",
       "      <td>4996</td>\n",
       "      <td>27</td>\n",
       "      <td>NaN</td>\n",
       "      <td>0.0</td>\n",
       "      <td>NaN</td>\n",
       "      <td>0.0</td>\n",
       "      <td>5003</td>\n",
       "      <td>27</td>\n",
       "      <td>NaN</td>\n",
       "      <td>0.0</td>\n",
       "      <td>NaN</td>\n",
       "      <td>0.0</td>\n",
       "      <td>4999.5</td>\n",
       "      <td>0.0</td>\n",
       "      <td>4999.500000</td>\n",
       "      <td>1</td>\n",
       "      <td>1</td>\n",
       "    </tr>\n",
       "    <tr>\n",
       "      <th>9</th>\n",
       "      <td>-2</td>\n",
       "      <td>400</td>\n",
       "      <td>STARFRUIT</td>\n",
       "      <td>4995</td>\n",
       "      <td>20</td>\n",
       "      <td>NaN</td>\n",
       "      <td>0.0</td>\n",
       "      <td>NaN</td>\n",
       "      <td>0.0</td>\n",
       "      <td>5002</td>\n",
       "      <td>20</td>\n",
       "      <td>NaN</td>\n",
       "      <td>0.0</td>\n",
       "      <td>NaN</td>\n",
       "      <td>0.0</td>\n",
       "      <td>4998.5</td>\n",
       "      <td>0.0</td>\n",
       "      <td>4998.500000</td>\n",
       "      <td>1</td>\n",
       "      <td>1</td>\n",
       "    </tr>\n",
       "    <tr>\n",
       "      <th>...</th>\n",
       "      <td>...</td>\n",
       "      <td>...</td>\n",
       "      <td>...</td>\n",
       "      <td>...</td>\n",
       "      <td>...</td>\n",
       "      <td>...</td>\n",
       "      <td>...</td>\n",
       "      <td>...</td>\n",
       "      <td>...</td>\n",
       "      <td>...</td>\n",
       "      <td>...</td>\n",
       "      <td>...</td>\n",
       "      <td>...</td>\n",
       "      <td>...</td>\n",
       "      <td>...</td>\n",
       "      <td>...</td>\n",
       "      <td>...</td>\n",
       "      <td>...</td>\n",
       "      <td>...</td>\n",
       "      <td>...</td>\n",
       "    </tr>\n",
       "    <tr>\n",
       "      <th>19990</th>\n",
       "      <td>0</td>\n",
       "      <td>2999500</td>\n",
       "      <td>STARFRUIT</td>\n",
       "      <td>5049</td>\n",
       "      <td>28</td>\n",
       "      <td>NaN</td>\n",
       "      <td>0.0</td>\n",
       "      <td>NaN</td>\n",
       "      <td>0.0</td>\n",
       "      <td>5056</td>\n",
       "      <td>28</td>\n",
       "      <td>NaN</td>\n",
       "      <td>0.0</td>\n",
       "      <td>NaN</td>\n",
       "      <td>0.0</td>\n",
       "      <td>5052.5</td>\n",
       "      <td>0.0</td>\n",
       "      <td>5052.500000</td>\n",
       "      <td>1</td>\n",
       "      <td>1</td>\n",
       "    </tr>\n",
       "    <tr>\n",
       "      <th>19992</th>\n",
       "      <td>0</td>\n",
       "      <td>2999600</td>\n",
       "      <td>STARFRUIT</td>\n",
       "      <td>5048</td>\n",
       "      <td>9</td>\n",
       "      <td>5047.0</td>\n",
       "      <td>27.0</td>\n",
       "      <td>NaN</td>\n",
       "      <td>0.0</td>\n",
       "      <td>5054</td>\n",
       "      <td>29</td>\n",
       "      <td>NaN</td>\n",
       "      <td>0.0</td>\n",
       "      <td>NaN</td>\n",
       "      <td>0.0</td>\n",
       "      <td>5051.0</td>\n",
       "      <td>0.0</td>\n",
       "      <td>5052.578947</td>\n",
       "      <td>2</td>\n",
       "      <td>1</td>\n",
       "    </tr>\n",
       "    <tr>\n",
       "      <th>19995</th>\n",
       "      <td>0</td>\n",
       "      <td>2999700</td>\n",
       "      <td>STARFRUIT</td>\n",
       "      <td>5053</td>\n",
       "      <td>1</td>\n",
       "      <td>5048.0</td>\n",
       "      <td>26.0</td>\n",
       "      <td>NaN</td>\n",
       "      <td>0.0</td>\n",
       "      <td>5054</td>\n",
       "      <td>2</td>\n",
       "      <td>5055.0</td>\n",
       "      <td>24.0</td>\n",
       "      <td>NaN</td>\n",
       "      <td>0.0</td>\n",
       "      <td>5053.5</td>\n",
       "      <td>0.0</td>\n",
       "      <td>5053.666667</td>\n",
       "      <td>2</td>\n",
       "      <td>2</td>\n",
       "    </tr>\n",
       "    <tr>\n",
       "      <th>19996</th>\n",
       "      <td>0</td>\n",
       "      <td>2999800</td>\n",
       "      <td>STARFRUIT</td>\n",
       "      <td>5047</td>\n",
       "      <td>27</td>\n",
       "      <td>NaN</td>\n",
       "      <td>0.0</td>\n",
       "      <td>NaN</td>\n",
       "      <td>0.0</td>\n",
       "      <td>5052</td>\n",
       "      <td>1</td>\n",
       "      <td>5054.0</td>\n",
       "      <td>27.0</td>\n",
       "      <td>NaN</td>\n",
       "      <td>0.0</td>\n",
       "      <td>5049.5</td>\n",
       "      <td>0.0</td>\n",
       "      <td>5047.178571</td>\n",
       "      <td>1</td>\n",
       "      <td>2</td>\n",
       "    </tr>\n",
       "    <tr>\n",
       "      <th>19998</th>\n",
       "      <td>0</td>\n",
       "      <td>2999900</td>\n",
       "      <td>STARFRUIT</td>\n",
       "      <td>5048</td>\n",
       "      <td>2</td>\n",
       "      <td>5047.0</td>\n",
       "      <td>21.0</td>\n",
       "      <td>NaN</td>\n",
       "      <td>0.0</td>\n",
       "      <td>5054</td>\n",
       "      <td>23</td>\n",
       "      <td>NaN</td>\n",
       "      <td>0.0</td>\n",
       "      <td>NaN</td>\n",
       "      <td>0.0</td>\n",
       "      <td>5051.0</td>\n",
       "      <td>0.0</td>\n",
       "      <td>5053.520000</td>\n",
       "      <td>2</td>\n",
       "      <td>1</td>\n",
       "    </tr>\n",
       "  </tbody>\n",
       "</table>\n",
       "<p>30000 rows × 20 columns</p>\n",
       "</div>"
      ],
      "text/plain": [
       "       day  timestamp    product  bid_price_1  bid_volume_1  bid_price_2  \\\n",
       "1       -2          0  STARFRUIT         4997            26          NaN   \n",
       "3       -2        100  STARFRUIT         5000             5       4998.0   \n",
       "4       -2        200  STARFRUIT         4997             1       4996.0   \n",
       "7       -2        300  STARFRUIT         4996            27          NaN   \n",
       "9       -2        400  STARFRUIT         4995            20          NaN   \n",
       "...    ...        ...        ...          ...           ...          ...   \n",
       "19990    0    2999500  STARFRUIT         5049            28          NaN   \n",
       "19992    0    2999600  STARFRUIT         5048             9       5047.0   \n",
       "19995    0    2999700  STARFRUIT         5053             1       5048.0   \n",
       "19996    0    2999800  STARFRUIT         5047            27          NaN   \n",
       "19998    0    2999900  STARFRUIT         5048             2       5047.0   \n",
       "\n",
       "       bid_volume_2  bid_price_3  bid_volume_3  ask_price_1  ask_volume_1  \\\n",
       "1               0.0          NaN           0.0         5003            26   \n",
       "3               6.0       4997.0          20.0         5004            20   \n",
       "4              30.0          NaN           0.0         5003            31   \n",
       "7               0.0          NaN           0.0         5003            27   \n",
       "9               0.0          NaN           0.0         5002            20   \n",
       "...             ...          ...           ...          ...           ...   \n",
       "19990           0.0          NaN           0.0         5056            28   \n",
       "19992          27.0          NaN           0.0         5054            29   \n",
       "19995          26.0          NaN           0.0         5054             2   \n",
       "19996           0.0          NaN           0.0         5052             1   \n",
       "19998          21.0          NaN           0.0         5054            23   \n",
       "\n",
       "       ask_price_2  ask_volume_2  ask_price_3  ask_volume_3  mid_price  \\\n",
       "1              NaN           0.0          NaN           0.0     5000.0   \n",
       "3              NaN           0.0          NaN           0.0     5002.0   \n",
       "4              NaN           0.0          NaN           0.0     5000.0   \n",
       "7              NaN           0.0          NaN           0.0     4999.5   \n",
       "9              NaN           0.0          NaN           0.0     4998.5   \n",
       "...            ...           ...          ...           ...        ...   \n",
       "19990          NaN           0.0          NaN           0.0     5052.5   \n",
       "19992          NaN           0.0          NaN           0.0     5051.0   \n",
       "19995       5055.0          24.0          NaN           0.0     5053.5   \n",
       "19996       5054.0          27.0          NaN           0.0     5049.5   \n",
       "19998          NaN           0.0          NaN           0.0     5051.0   \n",
       "\n",
       "       profit_and_loss  weighted_mid  bid_amt  ask_amt  \n",
       "1                  0.0   5000.000000        1        1  \n",
       "3                  0.0   5003.200000        3        1  \n",
       "4                  0.0   5002.812500        2        1  \n",
       "7                  0.0   4999.500000        1        1  \n",
       "9                  0.0   4998.500000        1        1  \n",
       "...                ...           ...      ...      ...  \n",
       "19990              0.0   5052.500000        1        1  \n",
       "19992              0.0   5052.578947        2        1  \n",
       "19995              0.0   5053.666667        2        2  \n",
       "19996              0.0   5047.178571        1        2  \n",
       "19998              0.0   5053.520000        2        1  \n",
       "\n",
       "[30000 rows x 20 columns]"
      ]
     },
     "execution_count": 98,
     "metadata": {},
     "output_type": "execute_result"
    }
   ],
   "source": [
    "data"
   ]
  },
  {
   "cell_type": "code",
   "execution_count": null,
   "id": "8da49466",
   "metadata": {},
   "outputs": [],
   "source": []
  },
  {
   "cell_type": "code",
   "execution_count": 158,
   "id": "a9a90809",
   "metadata": {},
   "outputs": [
    {
     "name": "stdout",
     "output_type": "stream",
     "text": [
      "29998\n"
     ]
    },
    {
     "name": "stderr",
     "output_type": "stream",
     "text": [
      "C:\\Users\\paulh\\AppData\\Local\\Temp\\ipykernel_13908\\3512541761.py:47: FutureWarning: `rcond` parameter will change to the default of machine precision times ``max(M, N)`` where M and N are the input matrix dimensions.\n",
      "To use the future default and silence this warning we advise to pass `rcond=None`, to keep using the old, explicitly pass `rcond=-1`.\n",
      "  beta = np.linalg.lstsq(X,Y)\n"
     ]
    }
   ],
   "source": [
    "'''###Linear regression setup\n",
    "n = 4 ## This is the amount of explainatory variables\n",
    "k = 1 ## This is how much in the future we want to look ## not yet implemented\n",
    "\n",
    "#design matrix, this can probably be done nicer\n",
    "vals = data['mid_price'].to_numpy()\n",
    "#Y = vals[n:]\n",
    "Y = data['weighted_mid'].to_numpy()[n:]\n",
    "X = np.ones((30000-n,n+1))\n",
    "for i in range(len(Y)):\n",
    "    for j in range(n):\n",
    "        X[i][j+1] = vals[i+j]\n",
    "'''\n",
    "\n",
    "###Linear regression setup\n",
    "n = 2 ## This is the amount of explainatory variables\n",
    "k = 1 ## This is how much in the future we want to look ## not yet implemented\n",
    "\n",
    "#design matrix, this can probably be done nicer\n",
    "vals = data['mid_price'].to_numpy()\n",
    "exp1 = data['bid_volume_1'].to_numpy()\n",
    "exp2 = data['ask_volume_1'].to_numpy()\n",
    "\n",
    "exp3 = data['bid_price_1'].to_numpy()\n",
    "exp4 = data['ask_price_1'].to_numpy()\n",
    "\n",
    "\n",
    "\n",
    "\n",
    "shift = 1\n",
    "Y = [vals[i+1] - vals[i] for i in range(shift,len(vals)-1)]\n",
    "print(len(Y))\n",
    "X = np.ones((30000-1 - shift,shift*4+1 + 2))\n",
    "for i in range(len(Y)-1):\n",
    "    X[i][1] = exp1[i + shift]\n",
    "    X[i][2] = exp2[i + shift]\n",
    "    X[i][3] = data['bid_amt'].to_numpy()[i + shift]\n",
    "    X[i][4] = data['ask_amt'].to_numpy()[i + shift]\n",
    "    X[i][5] = exp3[i + shift]\n",
    "    X[i][6] = exp4[i + shift]\n",
    "\n",
    "    \n",
    "    \n",
    "    \n",
    "\n",
    "        \n",
    "beta = np.linalg.lstsq(X,Y)"
   ]
  },
  {
   "cell_type": "code",
   "execution_count": 159,
   "id": "63212a5c",
   "metadata": {},
   "outputs": [
    {
     "data": {
      "text/plain": [
       "array([[1.000e+00, 5.000e+00, 2.000e+01, ..., 1.000e+00, 5.000e+03,\n",
       "        5.004e+03],\n",
       "       [1.000e+00, 1.000e+00, 3.100e+01, ..., 1.000e+00, 4.997e+03,\n",
       "        5.003e+03],\n",
       "       [1.000e+00, 2.700e+01, 2.700e+01, ..., 1.000e+00, 4.996e+03,\n",
       "        5.003e+03],\n",
       "       ...,\n",
       "       [1.000e+00, 9.000e+00, 2.900e+01, ..., 1.000e+00, 5.048e+03,\n",
       "        5.054e+03],\n",
       "       [1.000e+00, 1.000e+00, 2.000e+00, ..., 2.000e+00, 5.053e+03,\n",
       "        5.054e+03],\n",
       "       [1.000e+00, 1.000e+00, 1.000e+00, ..., 1.000e+00, 1.000e+00,\n",
       "        1.000e+00]])"
      ]
     },
     "execution_count": 159,
     "metadata": {},
     "output_type": "execute_result"
    }
   ],
   "source": [
    "X"
   ]
  },
  {
   "cell_type": "code",
   "execution_count": 160,
   "id": "07f232c6",
   "metadata": {},
   "outputs": [
    {
     "data": {
      "text/plain": [
       "array([ 2.75845941e+00, -1.48000746e-02,  5.64872243e-04, -1.27569906e+00,\n",
       "        9.34811449e-01, -1.30973011e-02,  1.26828712e-02])"
      ]
     },
     "execution_count": 160,
     "metadata": {},
     "output_type": "execute_result"
    }
   ],
   "source": [
    "beta[0]"
   ]
  },
  {
   "cell_type": "code",
   "execution_count": 161,
   "id": "38fea4b4",
   "metadata": {},
   "outputs": [],
   "source": [
    "from sklearn.linear_model import LinearRegression"
   ]
  },
  {
   "cell_type": "code",
   "execution_count": 162,
   "id": "d0507d75",
   "metadata": {},
   "outputs": [],
   "source": [
    "model = LinearRegression()\n",
    "X = pd.DataFrame(X)\n",
    "Y = pd.DataFrame(Y)"
   ]
  },
  {
   "cell_type": "code",
   "execution_count": 163,
   "id": "06ba3c82",
   "metadata": {},
   "outputs": [],
   "source": [
    "model.fit(X, Y)\n",
    "\n",
    "#calculate R-squared of regression model\n",
    "r_squared = model.score(X, Y)\n"
   ]
  },
  {
   "cell_type": "code",
   "execution_count": 164,
   "id": "4505fe4a",
   "metadata": {},
   "outputs": [
    {
     "name": "stdout",
     "output_type": "stream",
     "text": [
      "0.25176660688473174\n"
     ]
    }
   ],
   "source": [
    "print(r_squared)"
   ]
  },
  {
   "cell_type": "code",
   "execution_count": null,
   "id": "237e2434",
   "metadata": {},
   "outputs": [],
   "source": []
  }
 ],
 "metadata": {
  "kernelspec": {
   "display_name": "Python 3 (ipykernel)",
   "language": "python",
   "name": "python3"
  },
  "language_info": {
   "codemirror_mode": {
    "name": "ipython",
    "version": 3
   },
   "file_extension": ".py",
   "mimetype": "text/x-python",
   "name": "python",
   "nbconvert_exporter": "python",
   "pygments_lexer": "ipython3",
   "version": "3.10.12"
  }
 },
 "nbformat": 4,
 "nbformat_minor": 5
}
