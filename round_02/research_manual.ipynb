{
 "cells": [
  {
   "cell_type": "code",
   "execution_count": 1,
   "metadata": {},
   "outputs": [
    {
     "name": "stdout",
     "output_type": "stream",
     "text": [
      "('pizza', 'pizza', 'pizza', 'pizza') 1.0010999999999999\n",
      "('pizza', 'pizza', 'pizza', 'wasabi') 1.055808\n",
      "('pizza', 'pizza', 'wasabi', 'wasabi') 1.055808\n",
      "('pizza', 'pizza', 'wasabi', 'shells') 1.055808\n",
      "('pizza', 'wasabi', 'wasabi', 'wasabi') 1.055808\n",
      "('pizza', 'wasabi', 'wasabi', 'shells') 1.055808\n",
      "('pizza', 'wasabi', 'shells', 'pizza') 1.0569693888\n"
     ]
    }
   ],
   "source": [
    "prices = {\n",
    "    'pizza': { 'pizza': 1, 'wasabi': 0.48, 'snowball': 1.52, 'shells': 0.71 },\n",
    "    'wasabi': { 'pizza': 2.05, 'wasabi': 1, 'snowball': 3.26, 'shells': 1.56 },\n",
    "    'snowball': { 'pizza': 0.64, 'wasabi': 0.3, 'snowball': 1, 'shells': 0.46 },\n",
    "    'shells': { 'pizza': 1.41, 'wasabi': 0.61, 'snowball': 2.08, 'shells': 1 }\n",
    "}\n",
    "\n",
    "import itertools\n",
    "\n",
    "max_score = 1\n",
    "for path in itertools.product(['pizza', 'wasabi', 'snowball', 'shells'], repeat=4):\n",
    "    score = 1\n",
    "    score *= prices['shells'][path[0]]\n",
    "    score *= prices[path[0]][path[1]]\n",
    "    score *= prices[path[1]][path[2]]\n",
    "    score *= prices[path[2]][path[3]]\n",
    "    score *= prices[path[3]]['shells']\n",
    "\n",
    "\n",
    "\n",
    "    if score >= max_score:\n",
    "        print(path, score)\n",
    "        max_score = score"
   ]
  }
 ],
 "metadata": {
  "kernelspec": {
   "display_name": "Python 3",
   "language": "python",
   "name": "python3"
  },
  "language_info": {
   "codemirror_mode": {
    "name": "ipython",
    "version": 3
   },
   "file_extension": ".py",
   "mimetype": "text/x-python",
   "name": "python",
   "nbconvert_exporter": "python",
   "pygments_lexer": "ipython3",
   "version": "3.9.6"
  }
 },
 "nbformat": 4,
 "nbformat_minor": 2
}
