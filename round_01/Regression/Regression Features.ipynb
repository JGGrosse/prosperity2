{
 "cells": [
  {
   "cell_type": "code",
   "execution_count": 2,
   "id": "9dda3e42-8476-49b2-9e80-8414b40bd7f5",
   "metadata": {},
   "outputs": [],
   "source": [
    "import pandas as pd\n",
    "import numpy as np\n",
    "\n",
    "filename1 = 'prices_round_1_day_-2.csv'\n",
    "filename2 = 'prices_round_1_day_-1.csv'\n",
    "filename3 = 'prices_round_1_day_0.csv'\n",
    "\n",
    "## Preprocessing\n",
    "\n",
    "file1 = pd.read_csv(filename1, sep=';')  ## The used separator is ;\n",
    "file1 = file1[file1['product'] == 'STARFRUIT']  ## Only use amethyst data\n",
    "\n",
    "## Same for the other files\n",
    "file2 = pd.read_csv(filename2, sep=';')\n",
    "file2 = file2[file2['product'] == 'STARFRUIT']\n",
    "\n",
    "file3 = pd.read_csv(filename3, sep=';')\n",
    "file3 = file3[file3['product'] == 'STARFRUIT']\n",
    "\n",
    "file2['timestamp'] = file2['timestamp'].apply(lambda x: x + 1000000)\n",
    "file3['timestamp'] = file3['timestamp'].apply(lambda x: x + 2000000)\n",
    "\n",
    "data = pd.concat([file1, file2, file3])  ## Three days merged into 1 frame\n",
    "\n",
    "#for data, add some of the other indicators, namely sentiment, average sentiment, rsi, macd, volume\n",
    "\n",
    "# Calculate 'sentiment'\n",
    "data['sentiment'] = ((data['mid_price'] - data['bid_price_1']) * data['bid_volume_1']) / (\n",
    "    ((data['mid_price'] - data['bid_price_1']) * data['bid_volume_1']) +\n",
    "    ((-data['mid_price'] + data['ask_price_1']) * data['ask_volume_1'])\n",
    ")\n",
    "\n",
    "# Calculate 'average_sentiment' using a rolling window of 3, applying the mean function\n",
    "data['average_sentiment'] = data['sentiment'].rolling(window=3, min_periods=1).mean()"
   ]
  },
  {
   "cell_type": "code",
   "execution_count": 4,
   "id": "21beb407-a4c9-4bc1-b9f7-05dfc74845bf",
   "metadata": {},
   "outputs": [
    {
     "data": {
      "text/plain": [
       "1    0.50000\n",
       "3    0.35000\n",
       "4    0.24375\n",
       "7    0.24375\n",
       "9    0.34375\n",
       "Name: average_sentiment, dtype: float64"
      ]
     },
     "execution_count": 4,
     "metadata": {},
     "output_type": "execute_result"
    }
   ],
   "source": [
    "data['average_sentiment'].head()\n",
    "#this lines up with R calulation"
   ]
  },
  {
   "cell_type": "code",
   "execution_count": 8,
   "id": "85144a31-0874-4ed0-bb3d-553c502c3a6b",
   "metadata": {},
   "outputs": [
    {
     "name": "stdout",
     "output_type": "stream",
     "text": [
      "1           NaN\n",
      "3           NaN\n",
      "4           NaN\n",
      "7           NaN\n",
      "9           NaN\n",
      "11    66.827578\n",
      "12    45.047037\n",
      "15    49.187276\n",
      "17    65.454306\n",
      "19    65.454306\n",
      "20    38.495750\n",
      "22    42.709357\n",
      "25    47.228522\n",
      "26    62.154894\n",
      "28    38.397257\n",
      "30    48.867528\n",
      "33    48.867528\n",
      "34    44.893423\n",
      "36    37.308273\n",
      "38    66.016972\n",
      "Name: RSI, dtype: float64\n"
     ]
    }
   ],
   "source": [
    "def calculate_rsi(prices, period=5):\n",
    "    # Calculate daily price changes\n",
    "    delta = prices.diff()\n",
    "\n",
    "    # Separate gains and losses\n",
    "    gain = delta.clip(lower=0)\n",
    "    loss = -1 * delta.clip(upper=0)\n",
    "\n",
    "    # Calculate average gains and losses using EMA\n",
    "    avg_gain = gain.ewm(com=period-1, min_periods=period).mean()\n",
    "    avg_loss = loss.ewm(com=period-1, min_periods=period).mean()\n",
    "\n",
    "    # Calculate RS\n",
    "    rs = avg_gain / avg_loss\n",
    "\n",
    "    # Calculate RSI\n",
    "    rsi = 100 - (100 / (1 + rs))\n",
    "\n",
    "    return rsi\n",
    "\n",
    "# Assuming 'data' is your DataFrame and 'mid_price' is the column of interest\n",
    "data['RSI'] = calculate_rsi(data['mid_price'])\n",
    "\n",
    "# You can now view the DataFrame to see the 'RSI' column added\n",
    "print(data['RSI'].head(20))\n"
   ]
  },
  {
   "cell_type": "code",
   "execution_count": 19,
   "id": "86059d22-5dc9-4299-af9f-3ca4dde97deb",
   "metadata": {
    "jupyter": {
     "source_hidden": true
    }
   },
   "outputs": [],
   "source": [
    "def calculate_macd(close_prices, short_window=12, long_window=26, signal_window=9):\n",
    "    \"\"\"\n",
    "    Calculate MACD and Signal Line indicators.\n",
    "    \n",
    "    :param close_prices: Pandas Series of close prices.\n",
    "    :param short_window: Window length for the short-term EMA (default 12).\n",
    "    :param long_window: Window length for the long-term EMA (default 26).\n",
    "    :param signal_window: Window length for the signal line (default 9).\n",
    "    :return: DataFrame containing the MACD and Signal Line.\n",
    "    \"\"\"\n",
    "    \n",
    "    # Calculate the Short Term Exponential Moving Average\n",
    "    ShortEMA = close_prices.ewm(span=short_window, adjust=False).mean()\n",
    "    # Calculate the Long Term Exponential Moving Average\n",
    "    LongEMA = close_prices.ewm(span=long_window, adjust=False).mean()\n",
    "    # Calculate the Moving Average Convergence/Divergence (MACD)\n",
    "    MACD = ShortEMA - LongEMA\n",
    "    # Calculate the Signal Line\n",
    "    signal = MACD.ewm(span=signal_window, adjust=False).mean()\n",
    "    \n",
    "    # Compile and return the MACD data as a DataFrame\n",
    "    macd_df = pd.DataFrame(index=close_prices.index)\n",
    "    macd_df['MACD'] = MACD\n",
    "    #macd_df['Signal Line'] = signal\n",
    "    \n",
    "    return macd_df\n",
    "\n",
    "# Example usage:\n",
    "# Assuming 'data' is your DataFrame and it has a 'mid_price' column\n",
    "# Calculate MACD for 'mid_price'\n",
    "macd_data = calculate_macd(data['mid_price'])"
   ]
  },
  {
   "cell_type": "code",
   "execution_count": 25,
   "id": "08b7612b-49a5-4dca-a7d8-20e0ae24fd72",
   "metadata": {},
   "outputs": [
    {
     "name": "stdout",
     "output_type": "stream",
     "text": [
      "1           NaN\n",
      "3           NaN\n",
      "4           NaN\n",
      "7           NaN\n",
      "9           NaN\n",
      "11    66.827578\n",
      "Name: mid_price, dtype: float64\n"
     ]
    }
   ],
   "source": [
    "def calculate_rsi(prices, period=5):\n",
    "    # Convert list to pandas Series\n",
    "    prices_series = pd.Series(prices)\n",
    "\n",
    "    # Calculate daily price changes\n",
    "    delta = prices_series.diff()\n",
    "\n",
    "    # Separate gains and losses\n",
    "    gain = delta.clip(lower=0)\n",
    "    loss = -1 * delta.clip(upper=0)\n",
    "\n",
    "    # Calculate average gains and losses using EMA\n",
    "    avg_gain = gain.ewm(com=period-1, min_periods=period).mean()\n",
    "    avg_loss = loss.ewm(com=period-1, min_periods=period).mean()\n",
    "\n",
    "    # Calculate RS\n",
    "    rs = avg_gain / avg_loss\n",
    "\n",
    "    # Calculate RSI\n",
    "    rsi = 100 - (100 / (1 + rs))\n",
    "\n",
    "    return rsi\n",
    "\n",
    "print(calculate_rsi(data['mid_price'].head(6)))"
   ]
  },
  {
   "cell_type": "code",
   "execution_count": 26,
   "id": "71b4ed40-50a1-46df-8964-24648c4b33a7",
   "metadata": {},
   "outputs": [
    {
     "data": {
      "text/plain": [
       "1     5000.0\n",
       "3     5002.0\n",
       "4     5000.0\n",
       "7     4999.5\n",
       "9     4998.5\n",
       "11    5002.0\n",
       "Name: mid_price, dtype: float64"
      ]
     },
     "execution_count": 26,
     "metadata": {},
     "output_type": "execute_result"
    }
   ],
   "source": [
    "data['mid_price'].head(6)"
   ]
  },
  {
   "cell_type": "code",
   "execution_count": 29,
   "id": "129ad16b-e055-41ff-8959-46eae9642cdc",
   "metadata": {},
   "outputs": [
    {
     "data": {
      "text/plain": [
       "0          NaN\n",
       "1          NaN\n",
       "2          NaN\n",
       "3          NaN\n",
       "4          NaN\n",
       "5     0.000000\n",
       "6     0.000000\n",
       "7     0.000000\n",
       "8    70.942111\n",
       "9    37.599639\n",
       "dtype: float64"
      ]
     },
     "execution_count": 29,
     "metadata": {},
     "output_type": "execute_result"
    }
   ],
   "source": [
    "calculate_rsi([5040.5, 5040.5, 5040.5, 5040.5, 5039.5, 5039.5, 5039.5, 5039.5, 5040.5, 5039.5])"
   ]
  }
 ],
 "metadata": {
  "kernelspec": {
   "display_name": "Python 3 (ipykernel)",
   "language": "python",
   "name": "python3"
  },
  "language_info": {
   "codemirror_mode": {
    "name": "ipython",
    "version": 3
   },
   "file_extension": ".py",
   "mimetype": "text/x-python",
   "name": "python",
   "nbconvert_exporter": "python",
   "pygments_lexer": "ipython3",
   "version": "3.11.7"
  }
 },
 "nbformat": 4,
 "nbformat_minor": 5
}
