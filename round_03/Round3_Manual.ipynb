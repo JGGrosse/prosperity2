{
 "cells": [
  {
   "cell_type": "code",
   "execution_count": 57,
   "id": "468a24fc-3ace-4d0d-ae26-d615c27ea4a1",
   "metadata": {},
   "outputs": [],
   "source": [
    "import numpy as np\n",
    "\n",
    "# Define the arrays for treasure and hunters\n",
    "treasure = np.array([\n",
    "            24, 70, 41, 21, 60, \n",
    "            47, 82, 87, 80, 35, \n",
    "            73, 89, 100, 90, 17, \n",
    "            77, 83, 85, 79, 55,\n",
    "            12, 27, 52, 15, 30])\n",
    "\n",
    "hunters = np.array([\n",
    "            2, 4, 3, 2, 4, \n",
    "            3, 5, 5, 5, 3, \n",
    "            4, 5, 8, 7, 2, \n",
    "            5, 5, 5, 5, 4,\n",
    "            2, 3, 4, 2, 3])\n",
    "\n",
    "#treasure = np.array([24,70,47,82])\n",
    "#hunters = np.array([2,4,3,5])\n",
    "\n",
    "# Calculate the number of elements in the hunters array\n",
    "n = len(hunters)\n",
    "\n",
    "# Initialize the array y with zeros\n",
    "y = np.zeros(n)\n",
    "\n",
    "# Assign 100 to the last element of y\n",
    "y[-1] = 100\n",
    "\n",
    "# Loop to calculate differences as per the given formula\n",
    "for i in range(n - 1):\n",
    "    y[i] = hunters[i+1] / (treasure[i+1] * 7500) - hunters[i] / (treasure[i] * 7500)\n",
    "\n",
    "# Print the resulting array y\n",
    "#print(y)\n",
    "\n",
    "A = np.zeros((n, n))\n",
    "\n",
    "# Loop to populate the matrix for the diagonal and off-diagonal elements\n",
    "for i in range(n - 1):\n",
    "    A[i][i] = 1 / (treasure[i] * 7500)\n",
    "    A[i][i+1] = -1 / (treasure[i+1] * 7500)\n",
    "\n",
    "# Set the last row to all ones\n",
    "A[n-1] = np.ones(n)\n",
    "\n",
    "# Print the resulting matrix A\n",
    "#print(A)"
   ]
  },
  {
   "cell_type": "code",
   "execution_count": 58,
   "id": "4d40596c-a904-4bce-ab2e-3ce0098f5433",
   "metadata": {},
   "outputs": [
    {
     "name": "stdout",
     "output_type": "stream",
     "text": [
      "No solution found: The problem is infeasible. (HiGHS Status 8: model_status is Infeasible; primal_status is At lower/fixed bound)\n"
     ]
    }
   ],
   "source": [
    "import numpy as np\n",
    "from scipy.optimize import linprog\n",
    "\n",
    "# Linear programming does not directly support equality constraints.\n",
    "# Thus, we must separate A into two halves to express them as two inequality sets.\n",
    "# We will minimize a zero function (as we're only interested in finding a feasible x).\n",
    "c = np.zeros(n)  # Coefficients of the dummy objective function\n",
    "\n",
    "# Bounds for each x_i: 0 < x_i < 1\n",
    "x_bounds = [(0, 100) for _ in range(n)]\n",
    "\n",
    "# Define constraints (Ax = y converted into Ax <= y and Ax >= y)\n",
    "res = linprog(c, A_eq=A, b_eq=y, bounds=x_bounds, method='highs')\n",
    "\n",
    "if res.success:\n",
    "    print(\"Solution x:\", res.x)\n",
    "else:\n",
    "    print(\"No solution found:\", res.message)\n"
   ]
  },
  {
   "cell_type": "code",
   "execution_count": 59,
   "id": "a40ad2ac-643d-4b2c-91d5-2b17b47163f3",
   "metadata": {},
   "outputs": [
    {
     "name": "stdout",
     "output_type": "stream",
     "text": [
      "Least Squares Solution: [ 1.35429769  5.78336827  2.73025856  0.93501048  4.38574423  3.56883298\n",
      "  6.46051712  7.15932914  6.18099231  1.89168414  6.20265549  7.43885395\n",
      "  5.97624039  5.57861635  0.37596087  5.7617051   6.60027952  6.87980433\n",
      "  6.04122991  3.68693222 -0.32285115  0.77358491  3.267645    0.09643606\n",
      "  1.19287212]\n",
      "Solution within bounds: False\n"
     ]
    }
   ],
   "source": [
    "import numpy as np\n",
    "\n",
    "# Try solving using least squares to see if a solution is fundamentally possible\n",
    "x_ls, residuals, rank, s = np.linalg.lstsq(A, y, rcond=None)\n",
    "\n",
    "# Check if the solution x_ls lies within the desired bounds\n",
    "solution_within_bounds = np.all((x_ls > 0) & (x_ls < 100))\n",
    "\n",
    "print(\"Least Squares Solution:\", x_ls)\n",
    "print(\"Solution within bounds:\", solution_within_bounds)\n"
   ]
  },
  {
   "cell_type": "code",
   "execution_count": 60,
   "id": "0f918d87-b410-4f42-a7e2-c01954b3f3e2",
   "metadata": {},
   "outputs": [
    {
     "name": "stdout",
     "output_type": "stream",
     "text": [
      "[[ 1.35429769  5.78336827  2.73025856  0.93501048  4.38574423]\n",
      " [ 3.56883298  6.46051712  7.15932914  6.18099231  1.89168414]\n",
      " [ 6.20265549  7.43885395  5.97624039  5.57861635  0.37596087]\n",
      " [ 5.7617051   6.60027952  6.87980433  6.04122991  3.68693222]\n",
      " [-0.32285115  0.77358491  3.267645    0.09643606  1.19287212]]\n"
     ]
    }
   ],
   "source": [
    "print(x_ls.reshape((5, 5)))"
   ]
  },
  {
   "cell_type": "code",
   "execution_count": 65,
   "id": "d0d106ee-e5ab-41bc-b096-74de13c23fc3",
   "metadata": {},
   "outputs": [
    {
     "data": {
      "text/plain": [
       "'\\nLet us now mix this optimal distribution with other distributions\\nBy the study from Jannik:\\nNaive: 19%\\nOptimists:3%\\nSpoilers: 1%\\nRational: 62%\\nMean (irrational): 15%\\n\\nWe will adapt these probabilities/playing styles to:\\nSpoilers: 5%\\nNaive: 25%\\nOptimists: 5%\\nRational:55%\\nMeta-Rational:10%\\n'"
      ]
     },
     "execution_count": 65,
     "metadata": {},
     "output_type": "execute_result"
    }
   ],
   "source": [
    "'''\n",
    "Let us now mix this optimal distribution with other distributions\n",
    "By the study from Jannik:\n",
    "Naive: 19%\n",
    "Optimists:3%\n",
    "Spoilers: 1%\n",
    "Rational: 62%\n",
    "Mean (irrational): 15%\n",
    "\n",
    "We will adapt these probabilities/playing styles to:\n",
    "Spoilers: 5%\n",
    "Naive: 20%\n",
    "Optimists: 20%\n",
    "Rational: 30%\n",
    "Excel (mixed strategy off of the data): 20%\n",
    "Meta-Rational: 5%\n",
    "'''"
   ]
  },
  {
   "cell_type": "code",
   "execution_count": 128,
   "id": "fcb79417-bfa1-45e4-8f31-5b5da4d3d178",
   "metadata": {},
   "outputs": [],
   "source": [
    "'''\n",
    "Spoilers will just put all their guesses on the highest three tiles: 100, 90, and 89\n",
    "'''\n",
    "spoilers = 100*np.array([\n",
    "            0, 0, 0, 0, 0, \n",
    "            0, 0, 0, 0, 0, \n",
    "            0, 1/3, 1/3, 1/3, 0, \n",
    "            0, 0, 0, 0, 0,\n",
    "            0, 0, 0, 0, 0])"
   ]
  },
  {
   "cell_type": "code",
   "execution_count": 129,
   "id": "9cfc9f96-9f2d-44fb-8b26-7a1b6c33f11b",
   "metadata": {},
   "outputs": [],
   "source": [
    "'''\n",
    "Naive Players will uniformly pick between all numbers\n",
    "'''\n",
    "\n",
    "naive = 4*np.ones(n)"
   ]
  },
  {
   "cell_type": "code",
   "execution_count": 130,
   "id": "372de7a7-12e1-4652-90db-7ca68ee10c8b",
   "metadata": {},
   "outputs": [
    {
     "name": "stdout",
     "output_type": "stream",
     "text": [
      "[13 12 15  1 18  8  6 10 16 17  7 11]\n",
      "[61363.63636364 62500.         64166.66666667 65625.\n",
      " 65833.33333333 66666.66666667 68333.33333333 68437.5\n",
      " 69166.66666667 70833.33333333 72500.         74166.66666667]\n"
     ]
    }
   ],
   "source": [
    "'''\n",
    "Optimists will just assume everyone else plays naive,\n",
    "and pick the tiles with highest payoff under these circumstances.\n",
    "'''\n",
    "payout = 7500*treasure/(hunters+4)\n",
    "highest_indices = np.argsort(payout)[-12:]\n",
    "print(highest_indices)\n",
    "print(payout[highest_indices])"
   ]
  },
  {
   "cell_type": "code",
   "execution_count": 131,
   "id": "ee4c513a-6555-4cd4-aaca-d877350ba468",
   "metadata": {},
   "outputs": [],
   "source": [
    "'''\n",
    "This leads us to define:\n",
    "'''\n",
    "optimists = np.zeros(n)\n",
    "\n",
    "optimists[highest_indices[:2]] = 100*0.05\n",
    "optimists[highest_indices[3:8]] = 100*0.08\n",
    "optimists[highest_indices[8:]] = 100*0.1"
   ]
  },
  {
   "cell_type": "code",
   "execution_count": 132,
   "id": "9ef0f159-b756-401b-9350-2c34c4c3007a",
   "metadata": {},
   "outputs": [],
   "source": [
    "'''\n",
    "Rational players will assume everyone else is rational and hence they will follow the probabilities outlined:\n",
    "'''\n",
    "rational = x_ls"
   ]
  },
  {
   "cell_type": "code",
   "execution_count": 172,
   "id": "5ad5f03f-6e39-4bee-aab8-62429f0931c2",
   "metadata": {},
   "outputs": [
    {
     "name": "stdout",
     "output_type": "stream",
     "text": [
      "[[ 1.94174757  5.82524272  1.94174757  0.97087379  3.88349515]\n",
      " [ 3.88349515  4.85436893  5.82524272  5.82524272  0.97087379]\n",
      " [ 5.82524272 11.65048544  5.82524272  5.82524272  2.91262136]\n",
      " [ 4.85436893  4.85436893  5.82524272  5.82524272  1.94174757]\n",
      " [ 0.          0.97087379  3.88349515  0.          2.91262136]]\n"
     ]
    }
   ],
   "source": [
    "'''\n",
    "Spreadsheet\n",
    "'''\n",
    "import numpy as np\n",
    "from collections import Counter\n",
    "\n",
    "# Your predefined array order\n",
    "predefined_order = np.array([\n",
    "    24, 70, 41, 21, 60, \n",
    "    47, 82, 87, 80, 35, \n",
    "    73, 89, 100, 90, 17, \n",
    "    77, 83, 85, 79, 55,\n",
    "    12, 27, 52, 15, 30])\n",
    "\n",
    "# List of numbers from your provided data\n",
    "numbers = [\n",
    "    73, 89, 100, 90, 89, 100, 90, 89, 73, 89, 100, 90, 89,\n",
    "    87, 85, 47, 77, 60, 83, 55, 79, 82, 24, 35, 70, 41, 80,\n",
    "    73, 80, 52, 85, 52, 83, 80, 90, 79, 89, 77, 52, 60, 70,\n",
    "    73, 89, 85, 89, 70, 82, 87, 17, 21, 30, 30, 24, 17, 30, \n",
    "    17, 83, 100, 90, 85, 87, 47, 82, 82, 79, 85, 83, 60, 47, \n",
    "    89, 87, 77, 41, 83, 70, 73, 55, 52, 79, 77, 47, 77, 27, \n",
    "    80, 87, 70, 82, 70, 60, 79, 73, 80, 89, 87, 85, 100, 90, 50, \n",
    "    100, 89, 89, 79, 80\n",
    "]\n",
    "\n",
    "# Count the occurrences of each number\n",
    "counts = Counter(numbers)\n",
    "\n",
    "# Create a vector of zeros with the same length as predefined_order\n",
    "excel = np.zeros_like(predefined_order, dtype=float)\n",
    "\n",
    "# Map counts to the correct index in frequencies_vector based on predefined_order\n",
    "for idx, value in enumerate(predefined_order):\n",
    "    if value in counts:\n",
    "        excel[idx] = counts[value] / len(numbers) * 100\n",
    "\n",
    "print(excel.reshape(5,5))"
   ]
  },
  {
   "cell_type": "code",
   "execution_count": 153,
   "id": "fde4ac8f-f445-4fe2-b2e2-69fca7d6d450",
   "metadata": {},
   "outputs": [
    {
     "name": "stdout",
     "output_type": "stream",
     "text": [
      "[60139.86314692 60915.72585451 63878.21641605 64300.5256901\n",
      " 66504.95508816]\n",
      "[ 2  5  4 19 15]\n"
     ]
    }
   ],
   "source": [
    "'''\n",
    "Meta Rational Players will do a similar calculation to us and find the optimum under this calculation.\n",
    "'''\n",
    "distr = (1/0.95)*(0.05*spoilers + 0.20*naive + 0.20*optimists + 0.3*rational + 0.20*excel)\n",
    "meta_payout = 7500*treasure/(hunters+distr)\n",
    "print(meta_payout[np.argsort(meta_payout)[-5:]])\n",
    "print(np.argsort(meta_payout)[-5:])"
   ]
  },
  {
   "cell_type": "code",
   "execution_count": 176,
   "id": "af2e62bd-932d-46b1-afc4-49289fe6be68",
   "metadata": {},
   "outputs": [],
   "source": [
    "meta_rational = 20*np.array([\n",
    "            0, 0, 0, 0, 1, \n",
    "            1, 0, 0, 0, 0, \n",
    "            0, 0, 0, 0, 0, \n",
    "            1, 0, 0, 0, 1,\n",
    "            0, 0, 1, 0, 0])"
   ]
  },
  {
   "cell_type": "code",
   "execution_count": 155,
   "id": "02a16eac-fe66-4c77-b3aa-7555cbe6ddd1",
   "metadata": {},
   "outputs": [
    {
     "name": "stdout",
     "output_type": "stream",
     "text": [
      "[[50074.6 56451.3 61408.8 48096.3 57016.7]\n",
      " [53028.7 59656.4 58715.8 57585.2 57544.6]\n",
      " [58085.  47582.  51994.6 50731.7 36477.4]\n",
      " [60793.4 57901.8 57802.2 57095.1 56550. ]\n",
      " [33294.6 47914.8 51607.8 39767.7 47464.5]]\n"
     ]
    }
   ],
   "source": [
    "#Now calculate true payout\n",
    "true_distr = 0.95*distr + 0.05*meta_rational\n",
    "true_payout = 7500*treasure/(hunters+true_distr)\n",
    "print(true_payout.round(1).reshape(5,5))"
   ]
  },
  {
   "cell_type": "code",
   "execution_count": 136,
   "id": "2c969e33-e752-4bc3-8cb1-93be60fda246",
   "metadata": {},
   "outputs": [
    {
     "name": "stdout",
     "output_type": "stream",
     "text": [
      "[[1.4 6.1 1.8 1.3 2.3]\n",
      " [2.1 6.3 6.1 6.3 1.6]\n",
      " [5.3 9.6 7.6 7.5 1.1]\n",
      " [3.7 6.  6.1 6.2 2.1]\n",
      " [0.9 1.2 2.  1.  1.4]]\n"
     ]
    }
   ],
   "source": [
    "print(true_distr.round(1).reshape(5,5))"
   ]
  },
  {
   "cell_type": "code",
   "execution_count": 173,
   "id": "885689ef-01b3-40c5-998a-04f635fea4e5",
   "metadata": {},
   "outputs": [
    {
     "name": "stdout",
     "output_type": "stream",
     "text": [
      "[[45556.  55912.4 56508.5 44639.9 58976.1]\n",
      " [56298.4 57941.1 57867.5 57307.1 55599.8]\n",
      " [57793.1 45826.7 51759.8 50357.8 31222.9]\n",
      " [61360.5 57899.4 58165.7 56741.7 59112.4]\n",
      " [30672.9 45012.7 55566.4 37276.7 42792.9]]\n"
     ]
    }
   ],
   "source": [
    "'''\n",
    "Let us now simulate the different mixing distributions and average the payout.\n",
    "'''\n",
    "avg = np.zeros(n)\n",
    "\n",
    "m = 500\n",
    "\n",
    "alpha, beta = 1,5\n",
    "x = np.random.beta(alpha, beta, size=m)\n",
    "\n",
    "# Scale the results to sum to 30\n",
    "x1 = x * 3/10\n",
    "x2 = (1 - x) * 3/10\n",
    "\n",
    "\n",
    "# Alpha parameters for the Dirichlet distribution\n",
    "# Uniform distribution of alpha values will result in an equal expectation for the shares\n",
    "alpha_params = [1.5, 2, 3.5]  # Equal concentration parameters\n",
    "\n",
    "# Simulate using the Dirichlet distribution\n",
    "samples = np.random.dirichlet(alpha_params, m)\n",
    "\n",
    "# Scale the results by 10\n",
    "scaled_samples = samples * 7/10\n",
    "\n",
    "for i in range(m):\n",
    "    distr = (1/0.97)*(x1[i]*spoilers + x2[i]*naive + scaled_samples[i][0]*optimists + scaled_samples[i][1]*rational + scaled_samples[i][2]*excel)\n",
    "    meta_payout = 7500*treasure/(hunters+distr)\n",
    "    z = np.zeros(n)\n",
    "    z[np.argsort(meta_payout)[-5:]] = 20\n",
    "    true = 0.97*distr + 0.03*z\n",
    "    avg += 7500*treasure/(hunters+true)\n",
    "\n",
    "avg /= m\n",
    "print(avg.round(1).reshape(5,5))"
   ]
  },
  {
   "cell_type": "code",
   "execution_count": null,
   "id": "eb9ade85-f45f-42ce-9ff6-e2ba0c8fbe6b",
   "metadata": {},
   "outputs": [],
   "source": []
  }
 ],
 "metadata": {
  "kernelspec": {
   "display_name": "Python 3 (ipykernel)",
   "language": "python",
   "name": "python3"
  },
  "language_info": {
   "codemirror_mode": {
    "name": "ipython",
    "version": 3
   },
   "file_extension": ".py",
   "mimetype": "text/x-python",
   "name": "python",
   "nbconvert_exporter": "python",
   "pygments_lexer": "ipython3",
   "version": "3.11.7"
  }
 },
 "nbformat": 4,
 "nbformat_minor": 5
}
