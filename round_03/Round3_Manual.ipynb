{
 "cells": [
  {
   "cell_type": "code",
   "execution_count": 36,
   "id": "468a24fc-3ace-4d0d-ae26-d615c27ea4a1",
   "metadata": {},
   "outputs": [],
   "source": [
    "import numpy as np\n",
    "\n",
    "# Define the arrays for treasure and hunters\n",
    "treasure = np.array([\n",
    "            24, 70, 41, 21, 60, \n",
    "            47, 82, 87, 80, 35, \n",
    "            73, 89, 100, 90, 17, \n",
    "            77, 83, 85, 79, 55,\n",
    "            12, 27, 52, 15, 30])\n",
    "\n",
    "hunters = np.array([\n",
    "            2, 4, 3, 2, 4, \n",
    "            3, 5, 5, 5, 3, \n",
    "            4, 5, 8, 7, 2, \n",
    "            5, 5, 5, 5, 4,\n",
    "            2, 3, 4, 2, 3])\n",
    "\n",
    "#treasure = np.array([24,70,47,82])\n",
    "#hunters = np.array([2,4,3,5])\n",
    "\n",
    "# Calculate the number of elements in the hunters array\n",
    "n = len(hunters)\n",
    "\n",
    "# Initialize the array y with zeros\n",
    "y = np.zeros(n)\n",
    "\n",
    "# Assign 100 to the last element of y\n",
    "y[-1] = 100\n",
    "\n",
    "# Loop to calculate differences as per the given formula\n",
    "for i in range(n - 1):\n",
    "    y[i] = hunters[i+1] / (treasure[i+1] * 7500) - hunters[i] / (treasure[i] * 7500)\n",
    "\n",
    "# Print the resulting array y\n",
    "#print(y)\n",
    "\n",
    "A = np.zeros((n, n))\n",
    "\n",
    "# Loop to populate the matrix for the diagonal and off-diagonal elements\n",
    "for i in range(n - 1):\n",
    "    A[i][i] = 1 / (treasure[i] * 7500)\n",
    "    A[i][i+1] = -1 / (treasure[i+1] * 7500)\n",
    "\n",
    "# Set the last row to all ones\n",
    "A[n-1] = np.ones(n)\n",
    "\n",
    "# Print the resulting matrix A\n",
    "#print(A)"
   ]
  },
  {
   "cell_type": "code",
   "execution_count": 37,
   "id": "4d40596c-a904-4bce-ab2e-3ce0098f5433",
   "metadata": {},
   "outputs": [
    {
     "name": "stdout",
     "output_type": "stream",
     "text": [
      "No solution found: The problem is infeasible. (HiGHS Status 8: model_status is Infeasible; primal_status is At lower/fixed bound)\n"
     ]
    }
   ],
   "source": [
    "import numpy as np\n",
    "from scipy.optimize import linprog\n",
    "\n",
    "# Linear programming does not directly support equality constraints.\n",
    "# Thus, we must separate A into two halves to express them as two inequality sets.\n",
    "# We will minimize a zero function (as we're only interested in finding a feasible x).\n",
    "c = np.zeros(n)  # Coefficients of the dummy objective function\n",
    "\n",
    "# Bounds for each x_i: 0 < x_i < 1\n",
    "x_bounds = [(0, 100) for _ in range(n)]\n",
    "\n",
    "# Define constraints (Ax = y converted into Ax <= y and Ax >= y)\n",
    "res = linprog(c, A_eq=A, b_eq=y, bounds=x_bounds, method='highs')\n",
    "\n",
    "if res.success:\n",
    "    print(\"Solution x:\", res.x)\n",
    "else:\n",
    "    print(\"No solution found:\", res.message)\n"
   ]
  },
  {
   "cell_type": "code",
   "execution_count": 53,
   "id": "a40ad2ac-643d-4b2c-91d5-2b17b47163f3",
   "metadata": {},
   "outputs": [
    {
     "name": "stdout",
     "output_type": "stream",
     "text": [
      "Least Squares Solution: [ 1.35429769  5.78336827  2.73025856  0.93501048  4.38574423  3.56883298\n",
      "  6.46051712  7.15932914  6.18099231  1.89168414  6.20265549  7.43885395\n",
      "  5.97624039  5.57861635  0.37596087  5.7617051   6.60027952  6.87980433\n",
      "  6.04122991  3.68693222 -0.32285115  0.77358491  3.267645    0.09643606\n",
      "  1.19287212]\n",
      "Solution within bounds: False\n"
     ]
    }
   ],
   "source": [
    "import numpy as np\n",
    "\n",
    "# Try solving using least squares to see if a solution is fundamentally possible\n",
    "x_ls, residuals, rank, s = np.linalg.lstsq(A, y, rcond=None)\n",
    "\n",
    "# Check if the solution x_ls lies within the desired bounds\n",
    "solution_within_bounds = np.all((x_ls > 0) & (x_ls < 100))\n",
    "\n",
    "print(\"Least Squares Solution:\", x_ls)\n",
    "print(\"Solution within bounds:\", solution_within_bounds)\n"
   ]
  },
  {
   "cell_type": "code",
   "execution_count": 56,
   "id": "0f918d87-b410-4f42-a7e2-c01954b3f3e2",
   "metadata": {},
   "outputs": [
    {
     "name": "stdout",
     "output_type": "stream",
     "text": [
      "[[1. 6. 3. 1. 4.]\n",
      " [4. 6. 7. 6. 2.]\n",
      " [6. 7. 6. 6. 0.]\n",
      " [6. 7. 7. 6. 4.]\n",
      " [0. 1. 3. 0. 1.]]\n"
     ]
    }
   ],
   "source": [
    "for i in range(n):\n",
    "    x_ls[i] = int(round(x_ls[i]))\n",
    "print(x_ls.reshape((5, 5)))"
   ]
  }
 ],
 "metadata": {
  "kernelspec": {
   "display_name": "Python 3 (ipykernel)",
   "language": "python",
   "name": "python3"
  },
  "language_info": {
   "codemirror_mode": {
    "name": "ipython",
    "version": 3
   },
   "file_extension": ".py",
   "mimetype": "text/x-python",
   "name": "python",
   "nbconvert_exporter": "python",
   "pygments_lexer": "ipython3",
   "version": "3.11.7"
  }
 },
 "nbformat": 4,
 "nbformat_minor": 5
}
