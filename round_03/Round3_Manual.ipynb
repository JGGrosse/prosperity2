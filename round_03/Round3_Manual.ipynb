{
 "cells": [
  {
   "cell_type": "code",
   "execution_count": 114,
   "id": "468a24fc-3ace-4d0d-ae26-d615c27ea4a1",
   "metadata": {},
   "outputs": [],
   "source": [
    "import math\n",
    "import numpy as np\n",
    "\n",
    "treasure = np.array([\n",
    "            24, 70, 41, 21, 60, \n",
    "            47, 82, 87, 80, 35, \n",
    "            73, 89, 100, 90, 17, \n",
    "            77, 83, 85, 79, 55,\n",
    "            12 ,27, 52, 15, 30])\n",
    "\n",
    "probs = \n",
    "        # greedy: treasure ** 3 -> high profit (choose 17,12,15)\n",
    "        # random: np.ones(25) -> no profit\n",
    "probs = probs / np.sum(probs)\n",
    "        \n",
    "n = 5000\n",
    "strategies = np.array([np.random.choice(treasure, 3, p = probs) for i in range(n)])\n",
    "\n",
    "def calculate_return(other_strats, own_strat):\n",
    "    counts = [(strategies == pos).sum() for pos in own_strat]\n",
    "    return np.sum([own_strat[i]/counts[i] for i in range(3)])"
   ]
  },
  {
   "cell_type": "code",
   "execution_count": 115,
   "id": "65d0c76e-1337-45a2-96b8-ccf2aabd11ae",
   "metadata": {},
   "outputs": [],
   "source": [
    "strat_space = [strat for strat in itertools.combinations(treasure, 3)]\n",
    "returns = [calculate_return(strategies, strat) for strat in strat_space]"
   ]
  },
  {
   "cell_type": "code",
   "execution_count": 116,
   "id": "3594e762-334d-4ace-840e-4e0c5de73d37",
   "metadata": {},
   "outputs": [
    {
     "name": "stdout",
     "output_type": "stream",
     "text": [
      "12400.771388499299\n",
      "(17, 12, 15)\n"
     ]
    }
   ],
   "source": [
    "print(np.max(returns)*7500)\n",
    "print(strat_space[np.argmax(returns)])"
   ]
  }
 ],
 "metadata": {
  "kernelspec": {
   "display_name": "Python 3 (ipykernel)",
   "language": "python",
   "name": "python3"
  },
  "language_info": {
   "codemirror_mode": {
    "name": "ipython",
    "version": 3
   },
   "file_extension": ".py",
   "mimetype": "text/x-python",
   "name": "python",
   "nbconvert_exporter": "python",
   "pygments_lexer": "ipython3",
   "version": "3.11.7"
  }
 },
 "nbformat": 4,
 "nbformat_minor": 5
}
