{
 "cells": [
  {
   "cell_type": "code",
   "execution_count": 8,
   "metadata": {},
   "outputs": [
    {
     "name": "stdout",
     "output_type": "stream",
     "text": [
      "90000.0 G 26\n",
      "131250.0 G 27\n",
      "102500.0 G 28\n",
      "78750.0 G 29\n",
      "112500.0 G 30\n",
      "117500.0 H 26\n",
      "123000.0 H 27\n",
      "130500.0 H 28\n",
      "120000.0 H 29\n",
      "87500.0 H 30\n",
      "136875.0 I 26\n",
      "133500.0 I 27\n",
      "93750.0 I 28\n",
      "96428.57142857143 I 29\n",
      "63750.0 I 30\n",
      "115500.0 J 26\n",
      "124500.0 J 27\n",
      "127500.0 J 28\n",
      "118500.0 J 29\n",
      "103125.0 J 30\n",
      "45000.0 K 26\n",
      "67500.0 K 27\n",
      "106875.0 K 28\n",
      "56250.0 K 29\n",
      "75000.0 K 30\n"
     ]
    }
   ],
   "source": [
    "base_treasure = 7500\n",
    "expedition_fee_1 = 0\n",
    "expedition_fee_2 = 25000\n",
    "expedition_fee_3 = 75000\n",
    "\n",
    "multipliers = [[24, 70, 41, 21, 60],\n",
    "               [47, 82, 87, 80, 35],\n",
    "               [73, 89, 100, 90, 17],\n",
    "               [77, 83, 85, 79, 55],\n",
    "               [12, 27, 57, 15, 30]\n",
    "               ]\n",
    "\n",
    "hunters = [[2, 4, 3, 2, 4],\n",
    "           [3, 5, 5, 5, 3],\n",
    "           [4, 5, 8, 7, 2],\n",
    "           [5, 5, 5, 5, 4],\n",
    "           [2, 3, 4, 2, 3]\n",
    "           ]\n",
    "\n",
    "rows = ['G', 'H', 'I', 'J', 'K']\n",
    "columns = [26, 27, 28, 29, 30]\n",
    "\n",
    "\n",
    "\n",
    "\n",
    "for idx_row, row in enumerate(multipliers):\n",
    "    for idx_column, multi in enumerate(row):\n",
    "        profit = (base_treasure * multi) / (hunters[idx_row][idx_column] + 4)\n",
    "        print(profit, rows[idx_row], columns[idx_column])"
   ]
  }
 ],
 "metadata": {
  "kernelspec": {
   "display_name": "Python 3",
   "language": "python",
   "name": "python3"
  },
  "language_info": {
   "codemirror_mode": {
    "name": "ipython",
    "version": 3
   },
   "file_extension": ".py",
   "mimetype": "text/x-python",
   "name": "python",
   "nbconvert_exporter": "python",
   "pygments_lexer": "ipython3",
   "version": "3.9.6"
  }
 },
 "nbformat": 4,
 "nbformat_minor": 2
}
