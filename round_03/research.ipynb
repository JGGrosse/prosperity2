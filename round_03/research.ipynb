{
 "cells": [
  {
   "cell_type": "code",
   "execution_count": 5,
   "metadata": {},
   "outputs": [
    {
     "name": "stdout",
     "output_type": "stream",
     "text": [
      "0.11193963643517327 0.0005897757882895246\n"
     ]
    }
   ],
   "source": [
    "import pandas as pd\n",
    "\n",
    "filename_1 = r'./databottle/prices_round_3_day_0.csv'\n",
    "filename_2 = r'./databottle/prices_round_3_day_1.csv'\n",
    "filename_3 = r'./databottle/prices_round_3_day_2.csv'\n",
    "\n",
    "product = \"CHOCOLATE\"\n",
    "\n",
    "file_1 = pd.read_csv(filename_1, sep=';')  ## The used separator is ;\n",
    "file_1_gb = file_1[file_1['product'] == 'GIFT_BASKET']\n",
    "file_1 = file_1[file_1['product'] == product]\n",
    "\n",
    "file_2 = pd.read_csv(filename_2, sep=';')  ## The used separator is ;\n",
    "file_2_gb = file_2[file_2['product'] == 'GIFT_BASKET']\n",
    "file_2 = file_2[file_2['product'] == product]\n",
    "\n",
    "file_3 = pd.read_csv(filename_3, sep=';')  ## The used separator is ;\n",
    "file_3_gb = file_3[file_3['product'] == 'GIFT_BASKET']\n",
    "file_3 = file_3[file_3['product'] == product]\n",
    "\n",
    "\n",
    "\n",
    "file_2['timestamp'] = file_2['timestamp'].apply(lambda x: x + 1000000)\n",
    "file_3['timestamp'] = file_3['timestamp'].apply(lambda x: x + 2000000)\n",
    "\n",
    "file_2_gb['timestamp'] = file_2_gb['timestamp'].apply(lambda x: x + 1000000)\n",
    "file_3_gb['timestamp'] = file_3_gb['timestamp'].apply(lambda x: x + 2000000)\n",
    "\n",
    "\n",
    "data = pd.concat([file_1, file_2, file_3])  ## Three days merged into 1 frame\n",
    "data_gb = pd.concat([file_1_gb, file_2_gb, file_3_gb])\n",
    "\n",
    "df = pd.DataFrame()\n",
    "\n",
    "mid_price_product = data['mid_price'].reset_index().drop('index', axis=1)\n",
    "mid_price_gb = data_gb['mid_price'].reset_index().drop('index', axis=1)\n",
    "\n",
    "df['ratio'] = mid_price_product / mid_price_gb\n",
    "\n",
    "print(df['ratio'].mean(), df['ratio'].std())\n"
   ]
  }
 ],
 "metadata": {
  "kernelspec": {
   "display_name": "Python 3",
   "language": "python",
   "name": "python3"
  },
  "language_info": {
   "codemirror_mode": {
    "name": "ipython",
    "version": 3
   },
   "file_extension": ".py",
   "mimetype": "text/x-python",
   "name": "python",
   "nbconvert_exporter": "python",
   "pygments_lexer": "ipython3",
   "version": "3.9.6"
  }
 },
 "nbformat": 4,
 "nbformat_minor": 2
}
