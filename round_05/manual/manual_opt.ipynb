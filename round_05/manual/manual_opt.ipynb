{
 "cells": [
  {
   "cell_type": "code",
   "execution_count": 42,
   "id": "27970eae",
   "metadata": {},
   "outputs": [],
   "source": [
    "import scipy.optimize\n",
    "\n",
    "cones = -30956\n",
    "rods = 14841\n",
    "chand = 1653\n",
    "candy = -12877\n",
    "tea = 47476\n",
    "pillars = 14999\n",
    "lightbox = 14281\n",
    "tux = -5852\n",
    "underwear = -7190\n",
    "\n",
    "cones_cost = 12960\n",
    "rods_cost = 12960\n",
    "chand_cost = 9000\n",
    "candy_cost = 12960\n",
    "tea_cost = 12960\n",
    "pillars_cost = 12960\n",
    "lightbox_cost = 12960\n",
    "tux_cost = 5760\n",
    "underwear_cost = 9000\n",
    "\n",
    "# First jaspers profit, jaspers tax and jesper investement amount\n",
    "PRODUCTS = {'CONES' : [-30956,12960,90000],\n",
    "            'RODS' : [14841,12960,90000],\n",
    "            'CHAND' : [1653,9000,75000],\n",
    "            'CANDY' : [-12877,12960,90000],\n",
    "            'TEA' : [47476,12960,90000],\n",
    "            'PILLARS' : [14999,12960,90000],\n",
    "            'LIGHTBOX' : [14201,12960,90000],\n",
    "            'TUX' : [-5852,5760,60000],\n",
    "            'UNDERWEAR' : [-7190,75000,90000],\n",
    "           }\n"
   ]
  },
  {
   "cell_type": "code",
   "execution_count": 103,
   "id": "7c802b56",
   "metadata": {},
   "outputs": [
    {
     "name": "stdout",
     "output_type": "stream",
     "text": [
      "[-6.249999999999998, 12.870833333333344, 5.9183333333333366, 0.03842592592592542, 14.999993840906932, 12.943981481481492, 12.57453703703704, -0.0638888888888891, 14.999993840906932]\n"
     ]
    }
   ],
   "source": [
    "### Takes percent\n",
    "def cost(x):\n",
    "    return (9000/(75000)**2)*(x*750000/100)**2\n",
    "\n",
    "def profit(pps, percent):\n",
    "    shells = (percent/100)*750000\n",
    "    return pps*shells - cost(percent)\n",
    "    \n",
    "    \n",
    "def max_prof(pps):\n",
    "    max_x = scipy.optimize.minimize_scalar(lambda x: -profit(pps,x), bounds=[-15,15], method='bounded')\n",
    "    return max_x\n",
    "\n",
    "opt_res = []\n",
    "for key, value in PRODUCTS.items():\n",
    "    net_return = value[0] + value[1]\n",
    "    profit_per_seashell = net_return / value[2]\n",
    "    opt_res.append(max_prof(profit_per_seashell).get('x'))\n",
    "    \n",
    "\n",
    "\n",
    "### First has to differ as we have different values this year!\n",
    "z = max_prof(-0.15).get('x')    \n",
    "opt_res[0] = z\n",
    "print(opt_res)\n",
    "    \n",
    "    "
   ]
  },
  {
   "cell_type": "code",
   "execution_count": 94,
   "id": "c66d9ddc",
   "metadata": {},
   "outputs": [
    {
     "name": "stdout",
     "output_type": "stream",
     "text": [
      "83.1\n"
     ]
    }
   ],
   "source": [
    "print(sum([abs(v) for v in opt])) ## <100 "
   ]
  },
  {
   "cell_type": "code",
   "execution_count": null,
   "id": "b82b6b62",
   "metadata": {},
   "outputs": [],
   "source": [
    "'''\n",
    "corresponding items\n",
    "\n",
    "cones <-> earrings \n",
    "rods <-> sleds\n",
    "chandeliers <-> fridge\n",
    "candy <-> lava lamps\n",
    "tea <-> serum\n",
    "pillars <-> blankets\n",
    "lightbox <-> ps6\n",
    "tuxedo <-> hot chocolate\n",
    "underwear <-> ice sculpture\n",
    "\n",
    "\n",
    "\n",
    "'''\n",
    "\n",
    "\n"
   ]
  }
 ],
 "metadata": {
  "kernelspec": {
   "display_name": "Python 3 (ipykernel)",
   "language": "python",
   "name": "python3"
  },
  "language_info": {
   "codemirror_mode": {
    "name": "ipython",
    "version": 3
   },
   "file_extension": ".py",
   "mimetype": "text/x-python",
   "name": "python",
   "nbconvert_exporter": "python",
   "pygments_lexer": "ipython3",
   "version": "3.10.12"
  }
 },
 "nbformat": 4,
 "nbformat_minor": 5
}
