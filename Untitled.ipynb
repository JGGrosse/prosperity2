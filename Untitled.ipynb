{
 "cells": [
  {
   "cell_type": "code",
   "execution_count": 1,
   "id": "b1f62021-4604-464e-996f-6e96eee2c499",
   "metadata": {},
   "outputs": [],
   "source": [
    "# Read the file\n",
    "with open('Stanford_Cardinals_Trader.py', 'r') as file:\n",
    "    file_contents = file.read()\n",
    "\n",
    "# Replace \"BANANAS\" with \"STARFRUIT\" and \"PEARLS\" with \"AMETHYSTS\"\n",
    "file_contents = file_contents.replace('BANANAS', 'STARFRUIT').replace('PEARLS', 'AMETHYSTS').replace(\"bananas\", \"starfruit\").replace(\"pearls\", \"amethysts\")\n",
    "\n",
    "# Write the modified contents back to the file or a new file\n",
    "with open('Stanford_Cardinals_Trader_Modified.py', 'w') as file:\n",
    "    file.write(file_contents)\n"
   ]
  },
  {
   "cell_type": "code",
   "execution_count": null,
   "id": "a3a301f8-cd52-4452-b49b-f14552847ce1",
   "metadata": {},
   "outputs": [],
   "source": []
  }
 ],
 "metadata": {
  "kernelspec": {
   "display_name": "Python 3 (ipykernel)",
   "language": "python",
   "name": "python3"
  },
  "language_info": {
   "codemirror_mode": {
    "name": "ipython",
    "version": 3
   },
   "file_extension": ".py",
   "mimetype": "text/x-python",
   "name": "python",
   "nbconvert_exporter": "python",
   "pygments_lexer": "ipython3",
   "version": "3.11.7"
  }
 },
 "nbformat": 4,
 "nbformat_minor": 5
}
